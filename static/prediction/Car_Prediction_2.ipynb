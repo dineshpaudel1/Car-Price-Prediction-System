{
 "cells": [
  {
   "cell_type": "markdown",
   "id": "91de7948-8fa7-4ba7-9916-70b2f47cb343",
   "metadata": {},
   "source": [
    "<h2>Importing the libraries</h2>"
   ]
  },
  {
   "cell_type": "code",
   "execution_count": 240,
   "id": "22b622bb-3756-4347-a1c0-4dde4e24900d",
   "metadata": {},
   "outputs": [],
   "source": [
    "import numpy as np\n",
    "import pandas as pd\n",
    "import matplotlib.pyplot as plt\n",
    "pd.set_option('display.max_rows', None)"
   ]
  },
  {
   "cell_type": "markdown",
   "id": "22b32cbf-4cfe-4f6e-aa86-d833720a6ce1",
   "metadata": {},
   "source": [
    "<h3>Importing the libraries</h3>"
   ]
  },
  {
   "cell_type": "code",
   "execution_count": 278,
   "id": "112e105a-b226-4baa-8570-ab52b1cda000",
   "metadata": {},
   "outputs": [
    {
     "name": "stdout",
     "output_type": "stream",
     "text": [
      "['Diesel' 'Petrol']\n",
      "['Individual' 'Dealer']\n",
      "['Manual' 'Automatic']\n",
      "['First Owner' 'Second Owner' 'Third Owner']\n",
      "0        74\n",
      "1    103.52\n",
      "2        78\n",
      "3        90\n",
      "4      88.2\n",
      "Name: max_power, dtype: object\n",
      "<class 'pandas.core.frame.DataFrame'>\n",
      "Index: 7622 entries, 0 to 8127\n",
      "Data columns (total 10 columns):\n",
      " #   Column              Non-Null Count  Dtype  \n",
      "---  ------              --------------  -----  \n",
      " 0   year                7622 non-null   int64  \n",
      " 1   km_driven           7622 non-null   int64  \n",
      " 2   fuel                7622 non-null   object \n",
      " 3   seller_type         7622 non-null   object \n",
      " 4   transmission        7622 non-null   object \n",
      " 5   owner               7622 non-null   object \n",
      " 6   mileage(km/ltr/kg)  7420 non-null   float64\n",
      " 7   engine              7420 non-null   float64\n",
      " 8   max_power           7426 non-null   float64\n",
      " 9   seats               7420 non-null   float64\n",
      "dtypes: float64(4), int64(2), object(4)\n",
      "memory usage: 655.0+ KB\n",
      "[2014 145500 'Diesel' 'Individual' 'Manual' 'First Owner' 23.4 1248.0 74.0\n",
      " 5.0]\n",
      "[2006 140000 'Petrol' 'Individual' 'Manual' 'Third Owner' 17.7 1497.0 78.0\n",
      " 5.0]\n"
     ]
    },
    {
     "name": "stderr",
     "output_type": "stream",
     "text": [
      "C:\\Users\\user\\AppData\\Local\\Temp\\ipykernel_5532\\1660978126.py:21: SettingWithCopyWarning: \n",
      "A value is trying to be set on a copy of a slice from a DataFrame.\n",
      "Try using .loc[row_indexer,col_indexer] = value instead\n",
      "\n",
      "See the caveats in the documentation: https://pandas.pydata.org/pandas-docs/stable/user_guide/indexing.html#returning-a-view-versus-a-copy\n",
      "  X_data['max_power'] = pd.to_numeric(X_data['max_power'], errors='coerce')\n"
     ]
    }
   ],
   "source": [
    "data = pd.read_csv('cardekho.csv')\n",
    "\n",
    "fuel_to_remove = ['LPG', 'CNG']\n",
    "owner_to_remove = ['Fourth & Above Owner','Test Drive Car']\n",
    "seller_to_remove = ['Trustmark Dealer']\n",
    "\n",
    "data = data[~data['fuel'].isin(fuel_to_remove)]\n",
    "data = data[~data['owner'].isin(owner_to_remove)]\n",
    "data = data[~data['seller_type'].isin(seller_to_remove)]\n",
    "\n",
    "\n",
    "X_data = data.iloc[:, [1] + list(range(3,12))]\n",
    "\n",
    "print(X_data['fuel'].unique())\n",
    "print(X_data['seller_type'].unique())\n",
    "print(X_data['transmission'].unique())\n",
    "print(X_data['owner'].unique())\n",
    "print(X_data['max_power'].head())\n",
    "\n",
    "X_data.loc[:, 'max_power'] = X_data['max_power'].replace(['', 'NA', 'None'], np.nan)\n",
    "X_data['max_power'] = pd.to_numeric(X_data['max_power'], errors='coerce')\n",
    "X_data.info()\n",
    "\n",
    "\n",
    "X = X_data.values\n",
    "print(X[0])\n",
    "print(X[2])\n",
    "y = data.iloc[:,2].values\n",
    "\n"
   ]
  },
  {
   "cell_type": "markdown",
   "id": "755e8b86-8390-40c1-8d6c-2d523a12ad69",
   "metadata": {},
   "source": [
    "<h3>Data Preprocessing</h3>"
   ]
  },
  {
   "cell_type": "markdown",
   "id": "40f90754-59e0-4aaa-a06d-342b85bb4df8",
   "metadata": {},
   "source": [
    "<h4>Taking care of Missing Data</h4>"
   ]
  },
  {
   "cell_type": "code",
   "execution_count": 245,
   "id": "8881f8ae-28c2-4301-b3b0-c6f18d359d04",
   "metadata": {},
   "outputs": [
    {
     "name": "stdout",
     "output_type": "stream",
     "text": [
      "[[2014 145500 'Diesel' ... 1248.0 74.0 5.0]\n",
      " [2014 120000 'Diesel' ... 1498.0 103.52 5.0]\n",
      " [2006 140000 'Petrol' ... 1497.0 78.0 5.0]\n",
      " ...\n",
      " [2009 120000 'Diesel' ... 1248.0 73.9 5.0]\n",
      " [2013 25000 'Diesel' ... 1396.0 70.0 5.0]\n",
      " [2013 25000 'Diesel' ... 1396.0 70.0 5.0]]\n"
     ]
    }
   ],
   "source": [
    "from sklearn.impute import SimpleImputer\n",
    "imputer = SimpleImputer(missing_values = np.nan, strategy = 'mean')\n",
    "imputer.fit(X[:, 6:10])\n",
    "X[:, 6:10] = imputer.transform(X[:,6:10])\n",
    "print(X)"
   ]
  },
  {
   "cell_type": "markdown",
   "id": "684c00a5-2179-487c-a08e-d25aa0ae86ba",
   "metadata": {},
   "source": [
    "<h3>Encoding Categorical Data</h3>"
   ]
  },
  {
   "cell_type": "code",
   "execution_count": 276,
   "id": "8313d341-416d-44a0-8f1c-8a42f85ca149",
   "metadata": {},
   "outputs": [
    {
     "name": "stdout",
     "output_type": "stream",
     "text": [
      "[2006 140000 1 1 1 'Third Owner' 17.7 1497.0 78.0 5.0]\n"
     ]
    }
   ],
   "source": [
    "from sklearn.preprocessing import LabelEncoder\n",
    "\n",
    "le = LabelEncoder()\n",
    "columns_to_encode = [2, 3, 4]\n",
    "\n",
    "for col in columns_to_encode:\n",
    "    X[:, col] = le.fit_transform(X[:, col])\n",
    "\n",
    "print(X[0])\n",
    "print(X[2])"
   ]
  },
  {
   "cell_type": "code",
   "execution_count": 248,
   "id": "6f9fae50-e35a-4c29-a392-ac8b48ab7ee4",
   "metadata": {},
   "outputs": [
    {
     "name": "stdout",
     "output_type": "stream",
     "text": [
      "[1.0 0.0 0.0 2014 145500 0 1 1 23.4 1248.0 74.0 5.0]\n"
     ]
    }
   ],
   "source": [
    "from sklearn.compose import ColumnTransformer\n",
    "from sklearn.preprocessing import OneHotEncoder\n",
    "\n",
    "ct = ColumnTransformer(transformers = [('encoder', OneHotEncoder(), [5])], remainder = 'passthrough')\n",
    "X = np.array(ct.fit_transform(X))\n",
    "print(X[0])"
   ]
  },
  {
   "cell_type": "markdown",
   "id": "8fe5bcf3-ed8a-4871-ab88-8b52bbfb9a0b",
   "metadata": {},
   "source": [
    "<h3>Splitting the data set into Train and Test Variable</h3>"
   ]
  },
  {
   "cell_type": "code",
   "execution_count": 250,
   "id": "0843599c-88d6-4cc1-8a98-caa78f548a42",
   "metadata": {},
   "outputs": [
    {
     "name": "stdout",
     "output_type": "stream",
     "text": [
      "[[1.0 0.0 0.0 ... 1248.0 74.0 5.0]\n",
      " [1.0 0.0 0.0 ... 1493.0 70.0 7.0]\n",
      " [1.0 0.0 0.0 ... 1248.0 88.5 5.0]\n",
      " ...\n",
      " [1.0 0.0 0.0 ... 1498.0 89.75 5.0]\n",
      " [1.0 0.0 0.0 ... 1086.0 62.1 5.0]\n",
      " [0.0 1.0 0.0 ... 796.0 34.2 5.0]] [640000 750000 911999 ... 590000 165000 180000]\n",
      "[1.0 0.0 0.0 2017 110000 0 1 1 25.2 1248.0 74.0 5.0]\n"
     ]
    }
   ],
   "source": [
    "from sklearn.model_selection import train_test_split\n",
    "X_train, X_test, y_train, y_test = train_test_split(X, y, test_size = 0.2, random_state = 1)\n",
    "print(X_train, y_train)\n",
    "print(X_train[0])"
   ]
  },
  {
   "cell_type": "markdown",
   "id": "945bba0b-b9cf-4bf7-bf99-2dbd722c5c40",
   "metadata": {},
   "source": [
    "<h3>Feature Scaling</h3>"
   ]
  },
  {
   "cell_type": "code",
   "execution_count": 252,
   "id": "6aa7079c-3c0e-4cb4-a73a-70c652bdef76",
   "metadata": {},
   "outputs": [],
   "source": [
    "# from sklearn.preprocessing import StandardScaler\n",
    "# sc = StandardScaler()\n",
    "# X_train[:, 3:] = sc.fit_transform(X_train[:, 3:])\n",
    "# X_test[:, 3:] = sc.transform(X_test[:, 3:])\n",
    "# print(X_train[0])\n"
   ]
  },
  {
   "cell_type": "markdown",
   "id": "a9ca090c-8c52-4dfa-a36c-7f200b76f3fd",
   "metadata": {},
   "source": [
    "<h3>Implementing the Random Forest Regression</h3>"
   ]
  },
  {
   "cell_type": "code",
   "execution_count": 254,
   "id": "45a89bfd-7d57-4bfd-86c4-e9c8d6e8c574",
   "metadata": {},
   "outputs": [
    {
     "data": {
      "text/html": [
       "<style>#sk-container-id-9 {color: black;}#sk-container-id-9 pre{padding: 0;}#sk-container-id-9 div.sk-toggleable {background-color: white;}#sk-container-id-9 label.sk-toggleable__label {cursor: pointer;display: block;width: 100%;margin-bottom: 0;padding: 0.3em;box-sizing: border-box;text-align: center;}#sk-container-id-9 label.sk-toggleable__label-arrow:before {content: \"▸\";float: left;margin-right: 0.25em;color: #696969;}#sk-container-id-9 label.sk-toggleable__label-arrow:hover:before {color: black;}#sk-container-id-9 div.sk-estimator:hover label.sk-toggleable__label-arrow:before {color: black;}#sk-container-id-9 div.sk-toggleable__content {max-height: 0;max-width: 0;overflow: hidden;text-align: left;background-color: #f0f8ff;}#sk-container-id-9 div.sk-toggleable__content pre {margin: 0.2em;color: black;border-radius: 0.25em;background-color: #f0f8ff;}#sk-container-id-9 input.sk-toggleable__control:checked~div.sk-toggleable__content {max-height: 200px;max-width: 100%;overflow: auto;}#sk-container-id-9 input.sk-toggleable__control:checked~label.sk-toggleable__label-arrow:before {content: \"▾\";}#sk-container-id-9 div.sk-estimator input.sk-toggleable__control:checked~label.sk-toggleable__label {background-color: #d4ebff;}#sk-container-id-9 div.sk-label input.sk-toggleable__control:checked~label.sk-toggleable__label {background-color: #d4ebff;}#sk-container-id-9 input.sk-hidden--visually {border: 0;clip: rect(1px 1px 1px 1px);clip: rect(1px, 1px, 1px, 1px);height: 1px;margin: -1px;overflow: hidden;padding: 0;position: absolute;width: 1px;}#sk-container-id-9 div.sk-estimator {font-family: monospace;background-color: #f0f8ff;border: 1px dotted black;border-radius: 0.25em;box-sizing: border-box;margin-bottom: 0.5em;}#sk-container-id-9 div.sk-estimator:hover {background-color: #d4ebff;}#sk-container-id-9 div.sk-parallel-item::after {content: \"\";width: 100%;border-bottom: 1px solid gray;flex-grow: 1;}#sk-container-id-9 div.sk-label:hover label.sk-toggleable__label {background-color: #d4ebff;}#sk-container-id-9 div.sk-serial::before {content: \"\";position: absolute;border-left: 1px solid gray;box-sizing: border-box;top: 0;bottom: 0;left: 50%;z-index: 0;}#sk-container-id-9 div.sk-serial {display: flex;flex-direction: column;align-items: center;background-color: white;padding-right: 0.2em;padding-left: 0.2em;position: relative;}#sk-container-id-9 div.sk-item {position: relative;z-index: 1;}#sk-container-id-9 div.sk-parallel {display: flex;align-items: stretch;justify-content: center;background-color: white;position: relative;}#sk-container-id-9 div.sk-item::before, #sk-container-id-9 div.sk-parallel-item::before {content: \"\";position: absolute;border-left: 1px solid gray;box-sizing: border-box;top: 0;bottom: 0;left: 50%;z-index: -1;}#sk-container-id-9 div.sk-parallel-item {display: flex;flex-direction: column;z-index: 1;position: relative;background-color: white;}#sk-container-id-9 div.sk-parallel-item:first-child::after {align-self: flex-end;width: 50%;}#sk-container-id-9 div.sk-parallel-item:last-child::after {align-self: flex-start;width: 50%;}#sk-container-id-9 div.sk-parallel-item:only-child::after {width: 0;}#sk-container-id-9 div.sk-dashed-wrapped {border: 1px dashed gray;margin: 0 0.4em 0.5em 0.4em;box-sizing: border-box;padding-bottom: 0.4em;background-color: white;}#sk-container-id-9 div.sk-label label {font-family: monospace;font-weight: bold;display: inline-block;line-height: 1.2em;}#sk-container-id-9 div.sk-label-container {text-align: center;}#sk-container-id-9 div.sk-container {/* jupyter's `normalize.less` sets `[hidden] { display: none; }` but bootstrap.min.css set `[hidden] { display: none !important; }` so we also need the `!important` here to be able to override the default hidden behavior on the sphinx rendered scikit-learn.org. See: https://github.com/scikit-learn/scikit-learn/issues/21755 */display: inline-block !important;position: relative;}#sk-container-id-9 div.sk-text-repr-fallback {display: none;}</style><div id=\"sk-container-id-9\" class=\"sk-top-container\"><div class=\"sk-text-repr-fallback\"><pre>RandomForestRegressor(n_estimators=20, random_state=0)</pre><b>In a Jupyter environment, please rerun this cell to show the HTML representation or trust the notebook. <br />On GitHub, the HTML representation is unable to render, please try loading this page with nbviewer.org.</b></div><div class=\"sk-container\" hidden><div class=\"sk-item\"><div class=\"sk-estimator sk-toggleable\"><input class=\"sk-toggleable__control sk-hidden--visually\" id=\"sk-estimator-id-9\" type=\"checkbox\" checked><label for=\"sk-estimator-id-9\" class=\"sk-toggleable__label sk-toggleable__label-arrow\">RandomForestRegressor</label><div class=\"sk-toggleable__content\"><pre>RandomForestRegressor(n_estimators=20, random_state=0)</pre></div></div></div></div></div>"
      ],
      "text/plain": [
       "RandomForestRegressor(n_estimators=20, random_state=0)"
      ]
     },
     "execution_count": 254,
     "metadata": {},
     "output_type": "execute_result"
    }
   ],
   "source": [
    "from sklearn.ensemble import RandomForestRegressor\n",
    "regressor = RandomForestRegressor(n_estimators = 20, random_state = 0)\n",
    "regressor.fit(X_train, y_train)"
   ]
  },
  {
   "cell_type": "markdown",
   "id": "bc889677-77fb-4dbc-9e96-256572cd63b5",
   "metadata": {},
   "source": [
    "<h3>Evaluating Predicted and Actual Value</h3>"
   ]
  },
  {
   "cell_type": "code",
   "execution_count": 256,
   "id": "ff08f292-836a-4df4-bc8a-9fb358b78b1b",
   "metadata": {},
   "outputs": [
    {
     "name": "stdout",
     "output_type": "stream",
     "text": [
      "[[233700.   254999.  ]\n",
      " [534249.95 750000.  ]\n",
      " [343500.   320000.  ]\n",
      " ...\n",
      " [409916.67 425000.  ]\n",
      " [591208.33 580000.  ]\n",
      " [412000.   420000.  ]]\n"
     ]
    }
   ],
   "source": [
    "y_pred = regressor.predict(X_test)\n",
    "np.set_printoptions(precision=2)\n",
    "print(np.concatenate((y_pred.reshape(len(y_pred),1), y_test.reshape(len(y_test),1)),1))"
   ]
  },
  {
   "cell_type": "code",
   "execution_count": 257,
   "id": "b0f542ca-fa11-40b0-a9e1-d73baeff1295",
   "metadata": {},
   "outputs": [
    {
     "data": {
      "text/plain": [
       "0.9672310073170591"
      ]
     },
     "execution_count": 257,
     "metadata": {},
     "output_type": "execute_result"
    }
   ],
   "source": [
    "from sklearn.metrics import r2_score\n",
    "r2_score(y_test, y_pred)"
   ]
  },
  {
   "cell_type": "code",
   "execution_count": 258,
   "id": "9cc0bb30-3f05-431c-a822-aa740cf2d854",
   "metadata": {},
   "outputs": [
    {
     "data": {
      "text/plain": [
       "['trained_model.pkl']"
      ]
     },
     "execution_count": 258,
     "metadata": {},
     "output_type": "execute_result"
    }
   ],
   "source": [
    "joblib.dump(regressor, 'trained_model.pkl')"
   ]
  },
  {
   "cell_type": "code",
   "execution_count": 259,
   "id": "9b33a57f-7a05-4808-ad54-a5003a4570c9",
   "metadata": {},
   "outputs": [
    {
     "data": {
      "text/plain": [
       "array([797000.])"
      ]
     },
     "execution_count": 259,
     "metadata": {},
     "output_type": "execute_result"
    }
   ],
   "source": [
    "output = regressor.predict([[0.0, 0.0, 1.0, 2024, 200, 1, 0, 0, 20.0, 1348.0, 70.0, 5.0]])\n",
    "output"
   ]
  },
  {
   "cell_type": "code",
   "execution_count": null,
   "id": "6dfde6c7-b3b9-46df-9902-6048340dde88",
   "metadata": {},
   "outputs": [],
   "source": [
    "\n"
   ]
  },
  {
   "cell_type": "code",
   "execution_count": null,
   "id": "d21ac133-871a-428a-ab05-5ade5028ca53",
   "metadata": {},
   "outputs": [],
   "source": []
  }
 ],
 "metadata": {
  "kernelspec": {
   "display_name": "Python 3 (ipykernel)",
   "language": "python",
   "name": "python3"
  },
  "language_info": {
   "codemirror_mode": {
    "name": "ipython",
    "version": 3
   },
   "file_extension": ".py",
   "mimetype": "text/x-python",
   "name": "python",
   "nbconvert_exporter": "python",
   "pygments_lexer": "ipython3",
   "version": "3.8.19"
  }
 },
 "nbformat": 4,
 "nbformat_minor": 5
}
